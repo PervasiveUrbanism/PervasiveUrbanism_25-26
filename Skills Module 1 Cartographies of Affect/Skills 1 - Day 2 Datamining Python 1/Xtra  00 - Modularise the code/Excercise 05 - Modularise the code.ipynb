{
 "cells": [
  {
   "cell_type": "markdown",
   "metadata": {
    "id": "YYL-OKhyK977"
   },
   "source": [
    "# Modularise the code\n",
    "\n",
    "Sometimes your code grows too large and you like to divide it into various - smaller - segments. Additionally, this approach offers the benefit of being able to utilize the same code across multiple projects.\n",
    "\n",
    "Lastly, you may want to maintain your **passwords** or **log in details** separately from the main code. This method enables you to share your code with others while still being able to sleep at night."
   ]
  },
  {
   "cell_type": "markdown",
   "metadata": {
    "id": "jLbCtjLXMG_i"
   },
   "source": [
    "## Save passwords outside your main code\n",
    "\n",
    "This represents the simplest choice. Generate a text file containing the credentials alongside your code, then change the file extension from *.txt to *.py. Subsequently, you can include the file in your primary script.\n",
    "\n",
    "The exercise folder contains a file called `\"Passwords.py\"`. You import the passwords like so:"
   ]
  },
  {
   "cell_type": "code",
   "execution_count": 1,
   "metadata": {},
   "outputs": [
    {
     "name": "stdout",
     "output_type": "stream",
     "text": [
      "password_flickr\n",
      "password_gmail\n"
     ]
    }
   ],
   "source": [
    "import Passwords as ps\n",
    "\n",
    "print (ps.password_flickr)\n",
    "print (ps.password_gmail)"
   ]
  },
  {
   "cell_type": "markdown",
   "metadata": {
    "id": "_fu2mBqqRidO"
   },
   "source": [
    "The above example works if the file with the passwords is in the same folder as the main file. If it's anywhere else, then you have to add the location of this file to the system path: \n",
    "(that also works for functions)\n"
   ]
  },
  {
   "cell_type": "code",
   "execution_count": null,
   "metadata": {
    "colab": {
     "base_uri": "https://localhost:8080/"
    },
    "executionInfo": {
     "elapsed": 220,
     "status": "ok",
     "timestamp": 1698362397238,
     "user": {
      "displayName": "Vincent Nowak",
      "userId": "10666085833995447599"
     },
     "user_tz": -60
    },
    "id": "QQSoAG1PPpTg",
    "outputId": "2f9a9cde-405f-4d37-d640-f67caf21b5ae"
   },
   "outputs": [],
   "source": [
    "import sys\n",
    "sys.path.append(r'C:\\Users\\vince\\Dropbox\\Codes\\passwords')\n",
    "\n",
    "import Passwords as ps\n",
    "print (ps.password_flickr)\n",
    "\n",
    "# well, that didn't work because you don't have access to my dropbox folder..."
   ]
  },
  {
   "cell_type": "markdown",
   "metadata": {},
   "source": [
    "Last but not least and that is possibly the easiest solution, you save your credits as a csv file: "
   ]
  },
  {
   "cell_type": "code",
   "execution_count": 7,
   "metadata": {},
   "outputs": [
    {
     "data": {
      "text/plain": [
       "'password_01'"
      ]
     },
     "execution_count": 7,
     "metadata": {},
     "output_type": "execute_result"
    }
   ],
   "source": [
    "import pandas as pd\n",
    "\n",
    "df = pd.read_csv(r'C:\\Users\\vince\\Dropbox\\Codes\\passwords\\passwords.csv')\n",
    "\n",
    "password_google = df[\"password\"][0]\n",
    "\n",
    "password_google"
   ]
  },
  {
   "cell_type": "markdown",
   "metadata": {
    "id": "Wt-zH2WcTfVL"
   },
   "source": [
    "## Save functions outside your code\n",
    "\n",
    "The exercise folder also includes some basic functions that we can integrate into our main script. This might help you to keep the main code lean: "
   ]
  },
  {
   "cell_type": "code",
   "execution_count": 17,
   "metadata": {
    "executionInfo": {
     "elapsed": 218,
     "status": "ok",
     "timestamp": 1698363288290,
     "user": {
      "displayName": "Vincent Nowak",
      "userId": "10666085833995447599"
     },
     "user_tz": -60
    },
    "id": "o90S4p5lVRT_"
   },
   "outputs": [],
   "source": [
    "import functions\n"
   ]
  },
  {
   "cell_type": "code",
   "execution_count": 19,
   "metadata": {
    "colab": {
     "base_uri": "https://localhost:8080/"
    },
    "executionInfo": {
     "elapsed": 260,
     "status": "ok",
     "timestamp": 1698363324220,
     "user": {
      "displayName": "Vincent Nowak",
      "userId": "10666085833995447599"
     },
     "user_tz": -60
    },
    "id": "Ped-ynoiVZIu",
    "outputId": "a0f97352-b9d9-4066-b2ee-d24ff94a055d"
   },
   "outputs": [
    {
     "name": "stdout",
     "output_type": "stream",
     "text": [
      "Hello World!\n",
      "None\n",
      "5\n"
     ]
    }
   ],
   "source": [
    "print (functions.sayHello())\n",
    "print (functions.addTwo(3))"
   ]
  },
  {
   "cell_type": "markdown",
   "metadata": {},
   "source": [
    "\n",
    "\n",
    "<div class=\"alert alert-block alert-danger\">\n",
    "<b>Passwords</b>  \n",
    "\n",
    "Several of the scripts will prompt you to create usernames and passwords. In some instances, such as with Google, you may also need to provide your debit card details. This enables platforms like Google to charge you if you exceed the free usage limit. While the free limit is usually sufficient, there have been instances where things didn’t go as expected. Therefore, it’s important to monitor your passwords, API keys, and other credentials closely. If you notice anything suspicious, immediately discontinue use, deactivate, or change the password.\n",
    "\n",
    "**Please be careful with this information since it's easy to loose track of these things.**\n",
    "</div>"
   ]
  }
 ],
 "metadata": {
  "colab": {
   "authorship_tag": "ABX9TyNvknOXWEUExvIJyh/jgvyw",
   "mount_file_id": "1F804Bbw3ibrQk1gixVk-4dKen-N8mt9o",
   "provenance": []
  },
  "kernelspec": {
   "display_name": "Python 3",
   "name": "python3"
  },
  "language_info": {
   "codemirror_mode": {
    "name": "ipython",
    "version": 3
   },
   "file_extension": ".py",
   "mimetype": "text/x-python",
   "name": "python",
   "nbconvert_exporter": "python",
   "pygments_lexer": "ipython3",
   "version": "3.12.4"
  }
 },
 "nbformat": 4,
 "nbformat_minor": 0
}
