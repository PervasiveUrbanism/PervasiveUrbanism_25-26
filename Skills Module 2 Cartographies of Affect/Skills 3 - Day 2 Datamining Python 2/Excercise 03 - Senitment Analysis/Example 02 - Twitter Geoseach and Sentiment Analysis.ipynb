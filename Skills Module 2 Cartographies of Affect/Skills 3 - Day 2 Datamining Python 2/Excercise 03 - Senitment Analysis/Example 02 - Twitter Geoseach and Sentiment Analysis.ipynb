{
 "cells": [
  {
   "cell_type": "markdown",
   "metadata": {
    "id": "1YJkB52-CRTD"
   },
   "source": [
    "---\n",
    "\n",
    "## Sentiment Analysis\n",
    "\n",
    "![](https://diamond-thumbnails.s3.us-west-2.amazonaws.com/thinkbigcms/Product/logo/0643d8c9-2d6f-4305-8733-cd96b8557578.png?hash=350304961fe86c1de39bf5fbc025f1ea)\n",
    "\n",
    "\n",
    "Textblob enables the analysis of text through various methods, but for our purpose, we will focus on assessing the sentiment of a text. The process is relatively straightforward: each word or phrase is assigned a sentiment value ranging from -1 to +1, and a machine learning algorithm calculates an overall sentiment score.\n",
    "\n",
    "The documentation for Textblob can be found [here](https://textblob.readthedocs.io/en/dev/).\n",
    "\n",
    "We begin with a basic example, a movie review of \"Jaws: The Revenge\" written by Gene Siskel of the Chicago Tribune:"
   ]
  },
  {
   "cell_type": "code",
   "execution_count": 1,
   "metadata": {
    "colab": {
     "base_uri": "https://localhost:8080/"
    },
    "executionInfo": {
     "elapsed": 247,
     "status": "ok",
     "timestamp": 1698735828441,
     "user": {
      "displayName": "Vincent Nowak",
      "userId": "10666085833995447599"
     },
     "user_tz": 0
    },
    "id": "MIHQG3LaDEde",
    "outputId": "07dc1a56-6b1e-4f17-8f68-74803bb66d13"
   },
   "outputs": [
    {
     "name": "stdout",
     "output_type": "stream",
     "text": [
      "Polarity: -0.14583333333333334\n",
      "Subjectivity: 0.3958333333333333\n"
     ]
    }
   ],
   "source": [
    "from textblob import TextBlob\n",
    "\n",
    "text_to_analyse = \"\"\"In the just-released 'Jaws: The Revenge' the shark's main\n",
    "course is intended to be Roy Scheider's widow, Ellen Brody, a frumpy middle-aged\n",
    "woman played by boring actress Lorraine Gary, who happens to be married to the\n",
    "president of MCA Universal, which finances the 'Jaws' films and which explains\n",
    "her lead role. Let's put it this way: When you see and hear the nasal\n",
    "Lorraine Gary on screen you want the shark to eat her.\"\"\"\n",
    "\n",
    "text = TextBlob(text_to_analyse)\n",
    "\n",
    "print(\"Polarity: \" + str(text.sentiment.polarity))\n",
    "print(\"Subjectivity: \" + str(text.sentiment.subjectivity))\n"
   ]
  },
  {
   "cell_type": "markdown",
   "metadata": {
    "id": "WgZp76KcEZOd"
   },
   "source": [
    "Polarity seeks to distinguish opinions as either 'positive' or 'negative', while subjectivity is a numerical value within the range of `[0.0, 1.0]`, where `0.0` represents high objectivity and `1.0` signifies high subjectivity. Judging by the provided data, it appears that Gene Siskel wouldn't consider watching the movie for a second time.\n"
   ]
  }
 ],
 "metadata": {
  "colab": {
   "authorship_tag": "ABX9TyPTBQzE65j/r3InXKnN9VpM",
   "provenance": []
  },
  "kernelspec": {
   "display_name": "Python 3",
   "name": "python3"
  },
  "language_info": {
   "codemirror_mode": {
    "name": "ipython",
    "version": 3
   },
   "file_extension": ".py",
   "mimetype": "text/x-python",
   "name": "python",
   "nbconvert_exporter": "python",
   "pygments_lexer": "ipython3",
   "version": "3.12.4"
  }
 },
 "nbformat": 4,
 "nbformat_minor": 0
}
