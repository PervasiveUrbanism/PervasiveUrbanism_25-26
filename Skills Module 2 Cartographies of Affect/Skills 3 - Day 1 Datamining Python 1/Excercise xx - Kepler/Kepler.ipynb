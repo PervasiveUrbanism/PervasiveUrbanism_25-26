{
 "cells": [
  {
   "cell_type": "markdown",
   "id": "d914c22f",
   "metadata": {},
   "source": [
    "\n",
    "# Kepler.gl\n",
    "\n",
    "![alt text](images\\uk-commute.png)\n",
    "\n",
    "This notebook gives you a hands-on tour of kepler.gl inside Jupyter.\n",
    "\n",
    "> Note: If you're running locally, make sure your Jupyter environment can render kepler.gl (classic Jupyter Notebook or JupyterLab with appropriate extensions). In Colab it usually works out of the box.\n",
    "\n",
    "## What is Kepler.gl?\n",
    "\n",
    "Kepler.gl is an open-source geospatial analysis and visualization tool created by Uber’s Data Visualization team as part of their Vis.gl framework ecosystem (which also includes *deck.gl* and *luma.gl*).  \n",
    "\n",
    "It’s designed to handle large-scale location data directly in the browser — no coding required for basic use — yet it’s flexible enough to integrate into Python notebooks or custom web applications.\n",
    "\n",
    "\n",
    "### Key Features\n",
    "- Interactive 3D maps built on top of WebGL, using *deck.gl* under the hood.  \n",
    "- Supports multiple layer types (points, heatmaps, hexbins, arcs, lines, polygons, icons, and 3D buildings).  \n",
    "- Easy data import from CSV, JSON, or GeoJSON.  \n",
    "- Built-in filters, animations, tooltips, and color scales.  \n",
    "- Capable of rendering millions of points smoothly in the browser.  \n",
    "- Available both as:\n",
    "  - A standalone web interface\n",
    "  - A Python/Jupyter interface (the version we use here)\n",
    "\n",
    "\n",
    "### Web Interface\n",
    "You can explore Kepler.gl directly in your browser — no installation required — at:\n",
    "\n",
    "[https://kepler.gl](https://kepler.gl)  \n",
    "\n",
    "There, you can:\n",
    "- Upload a dataset (CSV or GeoJSON)\n",
    "- Interactively build visualizations using the UI\n",
    "- Export your map as a shareable HTML or JSON config\n",
    "\n",
    "The web version is perfect for quick exploration, while the Python/Jupyter integration (via the `keplergl` package) allows you to:\n",
    "- Generate or process your data programmatically in Python  \n",
    "- Pass it directly to Kepler for visualization  \n",
    "- Save or embed results as interactive HTML files"
   ]
  },
  {
   "cell_type": "markdown",
   "id": "ff41a362",
   "metadata": {},
   "source": [
    "## Install dependencies\n",
    "Run the cell below if you don't already have the packages."
   ]
  },
  {
   "cell_type": "code",
   "execution_count": null,
   "id": "048a35ba",
   "metadata": {},
   "outputs": [],
   "source": []
  },
  {
   "cell_type": "code",
   "execution_count": null,
   "id": "3a18b921",
   "metadata": {},
   "outputs": [],
   "source": [
    "# If needed, uncomment and run this cell\n",
    "# %pip install keplergl pandas numpy shapely"
   ]
  },
  {
   "cell_type": "code",
   "execution_count": 1,
   "id": "06e6199f",
   "metadata": {},
   "outputs": [
    {
     "ename": "ModuleNotFoundError",
     "evalue": "No module named 'keplergl'",
     "output_type": "error",
     "traceback": [
      "\u001b[31m---------------------------------------------------------------------------\u001b[39m",
      "\u001b[31mModuleNotFoundError\u001b[39m                       Traceback (most recent call last)",
      "\u001b[36mCell\u001b[39m\u001b[36m \u001b[39m\u001b[32mIn[1]\u001b[39m\u001b[32m, line 2\u001b[39m\n\u001b[32m      1\u001b[39m \u001b[38;5;66;03m# Load an empty map\u001b[39;00m\n\u001b[32m----> \u001b[39m\u001b[32m2\u001b[39m \u001b[38;5;28;01mfrom\u001b[39;00m\u001b[38;5;250m \u001b[39m\u001b[34;01mkeplergl\u001b[39;00m\u001b[38;5;250m \u001b[39m\u001b[38;5;28;01mimport\u001b[39;00m KeplerGl\n\u001b[32m      3\u001b[39m map_1 = KeplerGl()\n\u001b[32m      4\u001b[39m map_1\n",
      "\u001b[31mModuleNotFoundError\u001b[39m: No module named 'keplergl'"
     ]
    }
   ],
   "source": [
    "# Load an empty map\n",
    "from keplergl import KeplerGl\n",
    "map_1 = KeplerGl()\n",
    "map_1"
   ]
  }
 ],
 "metadata": {
  "kernelspec": {
   "display_name": "Python 3",
   "language": "python",
   "name": "python3"
  },
  "language_info": {
   "codemirror_mode": {
    "name": "ipython",
    "version": 3
   },
   "file_extension": ".py",
   "mimetype": "text/x-python",
   "name": "python",
   "nbconvert_exporter": "python",
   "pygments_lexer": "ipython3",
   "version": "3.13.6"
  }
 },
 "nbformat": 4,
 "nbformat_minor": 5
}
