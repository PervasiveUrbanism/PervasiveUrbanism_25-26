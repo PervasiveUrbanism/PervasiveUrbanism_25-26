{
 "cells": [
  {
   "cell_type": "markdown",
   "id": "35051122",
   "metadata": {},
   "source": [
    "# Python Primer\n",
    "\n",
    "![Python](images/python-logo-png_seeklogo-332789.png)\n",
    "## What is Python?\n",
    "Python is a high-level programming language created by Guido van Rossum in the late 1980s. It is designed to be readable, concise, and easy to learn — qualities that have made it popular in data science, web development, automation, and scripting.\n",
    "\n",
    "Python can be embedded or scripted inside many applications and environments such as Blender, QGIS, Raspberry Pi, and Rhino. In this course we focus on using CPython and Jupyter notebooks for teaching and hands-on exercises.\n",
    "\n",
    "A short documentary about the history of Python (optional):\n",
    "<iframe width=\"560\" height=\"315\" src=\"https://www.youtube.com/embed/GfH4QL4VqJ0?si=d17nnMKy38ndacw4\" title=\"YouTube video player\" frameborder=\"0\" allow=\"accelerometer; autoplay; clipboard-write; encrypted-media; gyroscope; picture-in-picture; web-share\" referrerpolicy=\"strict-origin-when-cross-origin\" allowfullscreen></iframe>"
   ]
  },
  {
   "cell_type": "markdown",
   "id": "8dd894ff",
   "metadata": {},
   "source": [
    "## Installation\n",
    "Choose a Python 3.x release (Python 2.7 is obsolete) and an environment to work in. Below are common options and quick guidance.\n",
    "\n",
    "### Common environments\n",
    "- The simple Python IDE that ships with the language (good for quick experiments).\n",
    "- *Jupyter Notebooks* or JupyterLab (interactive documents used in this course).\n",
    "- Browser-based services such as *Google Colab* (no local install required).\n",
    "- Full editors/IDEs like *Visual Studio Code* or *PyCharm*. Visual Studio Code is widely used and has great Python support: https://code.visualstudio.com/docs/python/python-tutorial\n",
    "\n",
    "Choosing between these environments can be confusing — and there’s really no single right or wrong answer.\n",
    "First and foremost, it’s important to note that Jupyter Notebooks allow you to mix text and code in one document — perfect for a learning environment like this one.\n",
    "Since a Jupyter Notebook is simply a file format (.ipynb), it can run in many different contexts.\n",
    "\n",
    "Personally, I’ve settled on VS Code and Google Colab.\n",
    "VS Code is extremely popular, and its AI-assisted code completion is remarkably powerful.\n",
    "If you’re running code locally, it’s a great choice — though it requires installing Python and a few extensions first. Most of the time, setup is straightforward… sometimes less so.\n",
    "\n",
    "That’s where Google Colab shines: you just start coding — no installation, no dependencies, everything comes preconfigured. It’s free and online.\n",
    "The downside? No internet means no code — everything runs in the cloud.\n",
    "Also, with the free version, your session may disconnect after some time (for example, if you leave a process running overnight). That’s normal — Google encourages upgrading to a paid plan, which is quite affordable given the service.\n",
    "\n",
    "And yes, there are other options such as PyCharm or Conda environments — but I don’t have much experience with them, so I can’t comment.\n",
    "\n",
    "### AI support\n",
    "\n",
    "AI-assisted coding is incredibly powerful.\n",
    "Large Language Models (LLMs) like ChatGPT or GitHub Copilot are easy to use and can dramatically improve productivity.\n",
    "Over the years, coding has become faster and more accessible thanks to these tools.\n",
    "\n",
    "You’re encouraged to use them — they can help you write, debug, and optimize your code.\n",
    "However, remember that AI can assist you, but it cannot replace understanding.\n",
    "You still need to know how to ask the right questions and read the code that’s suggested.\n",
    "That’s why learning the language itself remains essential.\n",
    "\n",
    "### Windows\n",
    "1. Download the latest Python 3 installer from https://python.org.\n",
    "2. Run the installer and check **Add Python to PATH** before continuing. The default options work for most users.\n",
    "\n",
    "### macOS\n",
    "Download the macOS installer on python.org and follow the installer steps. On macOS you typically won't be prompted for PATH changes; the installer configures the system correctly.\n",
    "\n",
    "---"
   ]
  },
  {
   "cell_type": "markdown",
   "id": "142f4d4f",
   "metadata": {},
   "source": [
    "## Basics\n",
    "\n",
    "### The interactive shell\n",
    "You can run small examples in a system terminal by typing `python` (or `python3` on some systems), or run code inside this notebook by executing cells. Python is an interpreted language — commands are executed by an interpreter immediately rather than compiled ahead of time.\n",
    "\n",
    "![Languages](images/Languages.png)\n",
    "\n",
    "On Windows you can open a terminal by typing `cmd` in the Start menu, then run `python` to start the REPL (interactive prompt). In this notebook, just run the code cells instead.\n"
   ]
  },
  {
   "cell_type": "code",
   "execution_count": null,
   "id": "77b581ac",
   "metadata": {},
   "outputs": [],
   "source": [
    "# Integers and simple output\n",
    "a = 4\n",
    "print(a)"
   ]
  },
  {
   "cell_type": "markdown",
   "id": "9e737582",
   "metadata": {},
   "source": [
    "### Variables and data types\n",
    "Python has dynamic typing: a variable can hold integers, floats, strings, booleans, lists, and more. You don’t declare types explicitly — the interpreter infers them.\n"
   ]
  },
  {
   "cell_type": "code",
   "execution_count": null,
   "id": "3c90c5e4",
   "metadata": {},
   "outputs": [
    {
     "name": "stdout",
     "output_type": "stream",
     "text": [
      "['eggs', 'milk', 4.5, 3, False]\n",
      "5\n",
      "8\n"
     ]
    }
   ],
   "source": [
    "# Examples of different types\n",
    "a = 4\n",
    "a = \"Hello You\"  # string\n",
    "a = 4.5  # float\n",
    "a = True  # boolean\n",
    "a = [\"eggs\", \"milk\", 4.5, 3, False]  # list\n",
    "print(a)\n",
    "\n",
    "# define many variables at once\n",
    "c, d = 5, 8\n",
    "\n",
    "print(c)\n",
    "print(d)"
   ]
  },
  {
   "cell_type": "markdown",
   "id": "74916772",
   "metadata": {},
   "source": [
    "If you need to check a variable's type at runtime, use `type()`:\n"
   ]
  },
  {
   "cell_type": "code",
   "execution_count": null,
   "id": "c79c56ca",
   "metadata": {},
   "outputs": [],
   "source": [
    "x = 3\n",
    "print(type(x))\n",
    "x = 'hello'\n",
    "print(type(x))"
   ]
  },
  {
   "cell_type": "markdown",
   "id": "b52c3c45",
   "metadata": {},
   "source": [
    "### Casting (type conversion)\n",
    "You can convert between types explicitly using built-in functions like `int()`, `float()`, `str()`, and `bool()`.\n"
   ]
  },
  {
   "cell_type": "code",
   "execution_count": null,
   "id": "45c6221f",
   "metadata": {},
   "outputs": [],
   "source": [
    "# Casting examples\n",
    "a = float(9)\n",
    "b = int(4.68343)\n",
    "c = str(4)\n",
    "d = bool(0)\n",
    "print(a, b, c, d)"
   ]
  },
  {
   "cell_type": "markdown",
   "id": "5098db5d",
   "metadata": {},
   "source": [
    "## Lists\n",
    "\n",
    "\n",
    "Lists are ordered, mutable collections of items. They can hold numbers, strings, or even other lists—mixing types if you want. Python uses zero-based indexing, so the first element is at index 0.\n",
    "\n",
    "⚠️ Avoid naming a variable list because it shadows Python’s built-in list type. In the examples below, we’ll use nums instead.\n",
    "\n",
    "\n",
    "\n",
    "### Define a list\n",
    "\n",
    "``` python\n",
    "nums = [2, 5, 6, 50]\n",
    "```\n",
    "\n",
    "\n",
    "\n",
    "### Get an item by index\n",
    "\n",
    "``` python\n",
    "a = nums[0]     # first item\n",
    "print(a)\n",
    "\n",
    "Output:\n",
    "\n",
    "2\n",
    "```\n",
    "\n",
    "\n",
    "\n",
    "### Get an item from the end (negative indexing)\n",
    "\n",
    "``` python\n",
    "a = nums[-1]    # last item\n",
    "print(a)\n",
    "\n",
    "Output:\n",
    "\n",
    "50\n",
    "```\n",
    "\n",
    "\n",
    "\n",
    "### Slice (take a sub-list)\n",
    "\n",
    "Slicing uses **start:stop** (stop is exclusive).\n",
    "\n",
    "``` python\n",
    "listONE = nums[0:2]   # items at indices 0 and 1\n",
    "print(listONE)\n",
    "\n",
    "Output:\n",
    "\n",
    "[2, 5]\n",
    "```\n",
    "\n",
    "You can also omit ends:\n",
    "- ```nums[:2]``` → from start to index 1\n",
    "- ```nums[2:]```→ from index 2 to the end\n",
    "\n",
    "\n",
    "\n",
    "### Replace (lists are mutable)\n",
    "\n",
    "``` python\n",
    "nums[0] = \"Dog\"\n",
    "print(nums)\n",
    "\n",
    "Output:\n",
    "\n",
    "['Dog', 5, 6, 50]\n",
    "```\n",
    "\n",
    "Lists can mix types (here, a string replaced a number).\n",
    "\n",
    "\n",
    "\n",
    "### Add an item (append)\n",
    "\n",
    "``` python\n",
    "nums.append(\"Cat\")\n",
    "print(nums)\n",
    "\n",
    "Output:\n",
    "\n",
    "['Dog', 5, 6, 50, 'Cat']\n",
    "\n",
    "```\n",
    "\n",
    "Common alternatives:\n",
    "- ```insert(i, x)``` to add at a position\n",
    "- ```extend(iterable)``` to add many items at once\n",
    "\n",
    "\n",
    "\n",
    "### Multi-dimensional (nested) lists\n",
    "\n",
    "Lists can contain other lists—for grids, matrices, coordinates, etc.\n",
    "\n",
    "```python\n",
    "coordinates = [[4, 6, 1], [6, 3, 9], [7, 3, 1]]\n",
    "\n",
    "print(coordinates[1])     # the second row\n",
    "print(coordinates[1][0])  # first item of the second row\n",
    "\n",
    "Output:\n",
    "\n",
    "[6, 3, 9]\n",
    "6\n",
    "```\n",
    "\n",
    "\n",
    "\n",
    "### Handy tips\n",
    "\n",
    "- ```len(nums)``` gives the number of items.\n",
    "- Slicing returns a new list; assignments like ```nums[0] = ...``` modify the existing list.\n",
    "- To copy a list, use ```nums.copy()``` or ```nums[:]``` (avoid other = nums, which just makes another reference)."
   ]
  },
  {
   "cell_type": "markdown",
   "id": "075ce52c",
   "metadata": {},
   "source": [
    "---\n",
    "\n",
    "## Strings and Concatenation\n",
    "\n",
    "Strings are sequences of characters enclosed in quotes, such as \"Hello\" or 'World'.\n",
    "Python allows you to combine (concatenate) and repeat strings using simple operators:\n",
    "\n",
    "- Use the ```+``` operator to join two or more strings.\n",
    "- Use the ```*``` operator to repeat a string multiple times.\n",
    "\n",
    "Examples:\n",
    "\n",
    "### Concatenation\n",
    "\n",
    "```python\n",
    "greeting = \"Hello\" + \" \" + \"World\"\n",
    "print(greeting)\n",
    "\n",
    "Output:\n",
    "\n",
    "Hello World\n",
    "```\n",
    "\n",
    "### Repetition\n",
    "```python\n",
    "echo = \"Hi! \" * 3\n",
    "print(echo)\n",
    "\n",
    "Output:\n",
    "\n",
    "Hi! Hi! Hi!\n",
    "```\n",
    "Note that you must explicitly include spaces when concatenating strings — Python won’t add them automatically.\n",
    "\n",
    "### f-Strings: A Modern Alternative\n",
    "\n",
    "Starting with Python 3.6, f-strings provide a cleaner and more readable way to combine text and variables inside strings.\n",
    "You create them by prefixing the string with f and placing expressions inside curly braces {}.\n",
    "\n",
    "Example:\n",
    "```python\n",
    "name = \"Vincent\"\n",
    "age = 35\n",
    "print(f\"Hello, my name is {name} and I am {age} years old.\")\n",
    "\n",
    "Output:\n",
    "\n",
    "Hello, my name is Vincent and I am 35 years old.\n",
    "\n",
    "You can even include expressions:\n",
    "\n",
    "print(f\"In five years, I’ll be {age + 5}.\")\n",
    "\n",
    "Output:\n",
    "\n",
    "In five years, I’ll be 40.\n",
    "```\n",
    "f-strings are now the preferred way to build strings in Python — they’re faster, cleaner, and more flexible than using + concatenation.\n"
   ]
  },
  {
   "cell_type": "markdown",
   "id": "e758a3d2",
   "metadata": {},
   "source": [
    "### Comments\n",
    "Use `#` for single-line comments and triple quotes (` ''' `) for longer block comments or docstrings.\n"
   ]
  },
  {
   "cell_type": "code",
   "execution_count": null,
   "id": "2a8fd326",
   "metadata": {},
   "outputs": [],
   "source": [
    "# This is a single-line comment\n",
    "\n",
    "'''\n",
    "This is a\n",
    "multi-line comment\n",
    "'''\n",
    "\n",
    "print('Comments demo')"
   ]
  },
  {
   "cell_type": "markdown",
   "id": "78ba5904",
   "metadata": {
    "jp-MarkdownHeadingCollapsed": true
   },
   "source": [
    "\n",
    "### Escape Characters and Raw Strings\n",
    "\n",
    "Escape characters are special sequences in a string that represent actions or symbols that are difficult to type directly.\n",
    "They always start with a backslash (\\), which tells Python that the following character has a special meaning.\n",
    "\n",
    "For example:\n",
    "- \\n → newline (moves text to the next line)\n",
    "- \\t → tab (inserts a horizontal tab)\n",
    "- \\\\ → backslash (adds a literal backslash)\n",
    "- \\\" → double quote (lets you include quotes inside a string)\n",
    "\n",
    "These are interpreted inside normal strings.\n",
    "\n",
    "Example:\n",
    "\n",
    "```python\n",
    "print(\"Hello\\nWorld\")\n",
    "\n",
    "Output:\n",
    "\n",
    "Hello\n",
    "World\n",
    "```\n",
    "\n",
    "If you want to prevent Python from interpreting backslashes as escape characters, you can prefix the string with r to make it a raw string.\n",
    "In a raw string, backslashes are treated as literal characters—useful, for instance, when writing Windows file paths.\n",
    "\n",
    "Example:\n",
    "```python\n",
    "print(r\"C:\\Users\\Vincent\\Documents\")\n",
    "\n",
    "Output:\n",
    "\n",
    "C:\\Users\\Vincent\\Document\n",
    "```"
   ]
  },
  {
   "cell_type": "markdown",
   "id": "3dd66603-8026-435f-ba56-3f7f1533a640",
   "metadata": {},
   "source": [
    "---\n",
    "## Flow Control\n",
    "\n",
    "**Flow control** determines the order in which Python executes statements.  \n",
    "It allows your program to make **decisions** and **repeat actions** based on conditions or loops.\n",
    "\n",
    "Python supports the usual control structures:\n",
    "- **Conditionals** (`if`, `elif`, `else`)  \n",
    "- **Loops** (`for`, `while`)  \n",
    "\n",
    "Unlike many other languages, **indentation** (spaces at the beginning of a line) is **syntactically significant** in Python — it defines blocks of code.  \n",
    "Typically, each block is indented by **4 spaces**."
   ]
  },
  {
   "cell_type": "markdown",
   "id": "e9cdf685-2bc7-4216-a93a-312642935e71",
   "metadata": {},
   "source": [
    "### Conditional Statements (`if`, `elif`, `else`)\n",
    "Use `if` statements to execute code only when a condition is true."
   ]
  },
  {
   "cell_type": "code",
   "execution_count": null,
   "id": "cb2c8eef-4d78-46ff-a29f-f03444624e86",
   "metadata": {},
   "outputs": [],
   "source": [
    "x = 10\n",
    "\n",
    "if x > 0:\n",
    "    print(\"Positive number\")\n",
    "elif x == 0:\n",
    "    print(\"Zero\")\n",
    "else:\n",
    "    print(\"Negative number\")"
   ]
  },
  {
   "cell_type": "markdown",
   "id": "84bb78a5-375f-473e-bb18-9ca3455a6e3c",
   "metadata": {},
   "source": [
    "**How it works:**\n",
    "- `if` checks the first condition.  \n",
    "- `elif` (short for *else if*) provides additional tests.  \n",
    "- `else` runs only if all previous conditions are false."
   ]
  },
  {
   "cell_type": "markdown",
   "id": "99a619d7-d54c-40e6-8d65-4cbb4abda507",
   "metadata": {},
   "source": [
    "### Comparison and Logical Operators\n",
    "\n",
    "Conditions often use these operators:\n",
    "\n",
    "| Operator | Meaning                  | Example     | Result |\n",
    "|-----------|--------------------------|-------------|---------|\n",
    "| `==`      | Equal to                 | `x == 5`    | True if `x` equals 5 |\n",
    "| `!=`      | Not equal to             | `x != 5`    | True if `x` is not 5 |\n",
    "| `>` `<`   | Greater / less than      | `x > 3`     | True if greater |\n",
    "| `>=` `<=` | Greater / less or equal  | `x >= 3`    | True if greater or equal |\n",
    "| `and`     | Logical AND              | `x > 0 and x < 10` | True if both conditions are true |\n",
    "| `or`      | Logical OR               | `x < 0 or x > 10`  | True if either is true |\n",
    "| `not`     | Logical NOT              | `not x == 5` | True if x is not 5 |\n"
   ]
  },
  {
   "cell_type": "markdown",
   "id": "475fa056-0b42-4253-b9a3-9d5e9a67694c",
   "metadata": {},
   "source": [
    "### The `for` Loop\n",
    "\n",
    "`for` loops iterate over a sequence — such as a list, tuple, or string."
   ]
  },
  {
   "cell_type": "code",
   "execution_count": null,
   "id": "088cad90-b222-4b4f-930b-3fb818fb93da",
   "metadata": {},
   "outputs": [],
   "source": [
    "fruits = [\"apple\", \"banana\", \"cherry\"]\n",
    "\n",
    "for fruit in fruits:\n",
    "    print(fruit)"
   ]
  },
  {
   "cell_type": "markdown",
   "id": "cbeacc42-2f21-4de9-94ad-1739eac2c0aa",
   "metadata": {},
   "source": [
    "You can also loop through numbers using `range()`:"
   ]
  },
  {
   "cell_type": "code",
   "execution_count": null,
   "id": "d1f5f5da-2777-4981-b39d-be2b9098db47",
   "metadata": {},
   "outputs": [],
   "source": [
    "for i in range(3):\n",
    "    print(i)"
   ]
  },
  {
   "cell_type": "markdown",
   "id": "04e69b5f-7e40-4a63-9efe-f3746ba81431",
   "metadata": {},
   "source": [
    "> `range(3)` generates the sequence `[0, 1, 2]`.  \n",
    "> The end value is **exclusive**, so `range(5)` runs from 0 to 4."
   ]
  },
  {
   "cell_type": "markdown",
   "id": "031f847c-a975-4f3b-845c-b1d7f6f90b44",
   "metadata": {},
   "source": [
    "### The `while` Loop\n",
    "\n",
    "`while` loops run **as long as** a condition remains true."
   ]
  },
  {
   "cell_type": "code",
   "execution_count": null,
   "id": "dfe2cb17-3195-4dd1-8f15-cbc41eceb59f",
   "metadata": {},
   "outputs": [],
   "source": [
    "count = 0\n",
    "\n",
    "while count < 3:\n",
    "    print(\"Count is:\", count)\n",
    "    count += 1"
   ]
  },
  {
   "cell_type": "markdown",
   "id": "1339ca80-852a-419a-9110-fed0dce51f40",
   "metadata": {},
   "source": [
    "Be careful — if the condition never becomes false, the loop runs forever!"
   ]
  },
  {
   "cell_type": "markdown",
   "id": "e4d58424-9760-49bc-aa0c-0ad915250bde",
   "metadata": {},
   "source": [
    "### `break` and `continue`\n",
    "\n",
    "- **`break`** exits the loop immediately.  \n",
    "- **`continue`** skips the rest of the loop body and moves to the next iteration."
   ]
  },
  {
   "cell_type": "code",
   "execution_count": null,
   "id": "f382a0b9-9c21-4d08-b862-d20fa8512641",
   "metadata": {},
   "outputs": [
    {
     "name": "stdout",
     "output_type": "stream",
     "text": [
      "0\n",
      "1\n",
      "3\n"
     ]
    }
   ],
   "source": [
    "for num in range(5):\n",
    "    if num == 2:\n",
    "        continue    # skip 2\n",
    "    if num == 4:\n",
    "        break       # stop at 4\n",
    "    print(num)"
   ]
  },
  {
   "cell_type": "markdown",
   "id": "18e07900-c950-4db4-aebe-5ff8a7fab212",
   "metadata": {},
   "source": [
    "### Summary\n",
    "\n",
    "Flow control allows you to:\n",
    "- Make **choices** with `if` statements  \n",
    "- **Repeat actions** with `for` and `while` loops  \n",
    "- Use **indentation** to structure your code  \n",
    "- Manage loop behavior using `break` and `continue`\n",
    "\n",
    "These tools form the foundation of logical decision-making in Python — the building blocks for all more advanced programming structures."
   ]
  },
  {
   "cell_type": "markdown",
   "id": "7c20de75",
   "metadata": {},
   "source": [
    "## First program (input and output)\n",
    "A small interactive example:"
   ]
  },
  {
   "cell_type": "code",
   "execution_count": null,
   "id": "84c6f168-63b1-47c2-9693-37020275146a",
   "metadata": {},
   "outputs": [],
   "source": [
    "print(\"Hello\")\n",
    "name = input(\"What is your name? \")\n",
    "print(\"Nice to meet you, \" + name)\n",
    "print(\"Have a nice day\")"
   ]
  },
  {
   "cell_type": "markdown",
   "id": "7253f595",
   "metadata": {},
   "source": [
    "**Running scripts from the command line**\n",
    "You can run a Python script file from a terminal by changing into the script's folder and typing `python scriptname.py`. In Windows Explorer's address bar type `cmd` to open a terminal at the current folder.\n",
    "\n",
    "![Polite1](images/polite1.png)\n",
    "\n",
    "![Polite2](images/polite2.png)"
   ]
  },
  {
   "cell_type": "markdown",
   "id": "22d3de16",
   "metadata": {},
   "source": [
    "---\n",
    "\n",
    "## Functions and basic data structures\n",
    "Functions let you package behavior and reuse code. Below is a simple Fibonacci function that returns a list of values up to `n`.\n"
   ]
  },
  {
   "cell_type": "code",
   "execution_count": null,
   "id": "1088a5fb",
   "metadata": {},
   "outputs": [],
   "source": [
    "def fib(n):\n",
    "    \"\"\"Return a list with the Fibonacci series up to n.\"\"\"\n",
    "    result = []\n",
    "    a, b = 0, 1\n",
    "    while a < n:\n",
    "        result.append(a)\n",
    "        a, b = b, a + b\n",
    "    return result\n",
    "\n",
    "print(fib(50))"
   ]
  },
  {
   "cell_type": "markdown",
   "id": "e3812744",
   "metadata": {},
   "source": [
    "---\n",
    "\n",
    "## Reading and writing files\n",
    "Use `open()` to access files. Prefer the `with` statement which ensures files are closed correctly.\n"
   ]
  },
  {
   "cell_type": "code",
   "execution_count": null,
   "id": "89cf5654",
   "metadata": {},
   "outputs": [],
   "source": [
    "filepath = r'01_Python 101\\csv\\data.csv'\n",
    "with open(filepath, 'r', encoding='utf-8') as f:\n",
    "    lines = f.readlines()\n",
    "    for line in lines:\n",
    "        print(line.strip())"
   ]
  },
  {
   "cell_type": "markdown",
   "id": "5a1aa9de",
   "metadata": {},
   "source": [
    "### CSV module example\n",
    "The `csv` module makes reading and writing CSV files straightforward."
   ]
  },
  {
   "cell_type": "code",
   "execution_count": null,
   "id": "4fe02a0a",
   "metadata": {},
   "outputs": [],
   "source": [
    "import csv\n",
    "filepath = r'01_Python 101\\csv\\data.csv'\n",
    "with open(filepath, newline='', encoding='utf-8') as csvfile:\n",
    "    reader = csv.reader(csvfile, delimiter=',')\n",
    "    for row in reader:\n",
    "        print(row)"
   ]
  },
  {
   "cell_type": "markdown",
   "id": "9afe9ddb",
   "metadata": {},
   "source": [
    "---\n",
    "\n",
    "## Modules and the Python Standard Library\n",
    "Python ships with many useful modules: https://docs.python.org/3/library/. Use `help()` in a REPL to explore installed modules.\n"
   ]
  },
  {
   "cell_type": "code",
   "execution_count": null,
   "id": "8ecf2be3",
   "metadata": {},
   "outputs": [],
   "source": [
    "import math\n",
    "x = math.radians(90)\n",
    "print(x)"
   ]
  },
  {
   "cell_type": "markdown",
   "id": "64ed29ba",
   "metadata": {},
   "source": [
    "### Installing packages with pip\n",
    "Use `pip install package-name` to add third-party packages from PyPI. Example: `pip install numpy`.\n"
   ]
  },
  {
   "cell_type": "markdown",
   "id": "5fc42e32",
   "metadata": {},
   "source": [
    "## Time and Datetime\n",
    "\n",
    "Working with dates and times is a common task in programming — from logging events and scheduling tasks to measuring execution time or generating timestamps.\n",
    "Python offers two key modules for this:\n",
    "\n",
    "- *datetime* → for human-readable date and time handling\n",
    "\n",
    "- *time* → for low-level system and performance-related time functions\n",
    "\n",
    "### The datetime Module\n",
    "\n",
    "The datetime module makes it easy to work with dates, times, and timestamps in a readable way.\n",
    "\n",
    "It provides several main classes:\n",
    "\n",
    "- *datetime.date* → calendar dates (year, month, day)\n",
    "\n",
    "- *datetime.time* → clock times (hour, minute, second, microsecond)\n",
    "\n",
    "- *datetime.datetime* → both date and time combined\n",
    "\n",
    "- *datetime.timedelta* → time differences (intervals)"
   ]
  },
  {
   "cell_type": "code",
   "execution_count": null,
   "id": "b01869b9",
   "metadata": {},
   "outputs": [],
   "source": [
    "from datetime import datetime, date, time, timedelta\n",
    "\n",
    "# Current date and time\n",
    "now = datetime.now()\n",
    "print(\"Now:\", now)\n",
    "\n",
    "# Just the date\n",
    "today = date.today()\n",
    "print(\"Today:\", today)\n",
    "\n",
    "# Create a specific date and time\n",
    "my_birthday = datetime(1990, 6, 15, 10, 30)\n",
    "print(\"My birthday:\", my_birthday)\n",
    "\n",
    "# Date arithmetic\n",
    "one_week = timedelta(weeks=1)\n",
    "next_week = today + one_week\n",
    "print(\"Same day next week:\", next_week)\n"
   ]
  },
  {
   "cell_type": "markdown",
   "id": "4b4aeb36",
   "metadata": {},
   "source": [
    "### Formatting and parsing dates"
   ]
  },
  {
   "cell_type": "code",
   "execution_count": null,
   "id": "bebddfe8",
   "metadata": {},
   "outputs": [
    {
     "name": "stdout",
     "output_type": "stream",
     "text": [
      "Formatted: 2025-10-11 22:06:45\n",
      "Parsed: 2025-10-11 12:45:00\n"
     ]
    }
   ],
   "source": [
    "# Formatting (strftime > \"string from time\")\n",
    "formatted = now.strftime(\"%Y-%m-%d %H:%M:%S\")\n",
    "print(\"Formatted:\", formatted)\n",
    "\n",
    "# Parsing from string (strptime > \"string to time\")\n",
    "parsed = datetime.strptime(\"2025-10-11 12:45:00\", \"%Y-%m-%d %H:%M:%S\")\n",
    "print(\"Parsed:\", parsed)\n"
   ]
  },
  {
   "cell_type": "markdown",
   "id": "499323d4",
   "metadata": {},
   "source": [
    "Common format codes\n",
    "\n",
    "| Code | Meaning         | Example |\n",
    "| :--: | --------------- | ------- |\n",
    "| `%Y` | Year (4 digits) | 2025    |\n",
    "| `%m` | Month (01–12)   | 10      |\n",
    "| `%d` | Day (01–31)     | 11      |\n",
    "| `%H` | Hour (00–23)    | 14      |\n",
    "| `%M` | Minute (00–59)  | 35      |\n",
    "| `%S` | Second (00–59)  | 09      |"
   ]
  },
  {
   "cell_type": "markdown",
   "id": "2d431012",
   "metadata": {},
   "source": [
    "### The time Module\n",
    "\n",
    "The time module provides lower-level access to system clocks and is useful for measuring performance, adding delays, or working with Unix timestamps (seconds since 1 Jan 1970)."
   ]
  },
  {
   "cell_type": "code",
   "execution_count": null,
   "id": "7ff3516a",
   "metadata": {},
   "outputs": [],
   "source": [
    "import time\n",
    "\n",
    "# Current time in seconds since the Unix epoch\n",
    "timestamp = time.time()\n",
    "print(\"Timestamp:\", timestamp)\n",
    "\n",
    "# Convert timestamp to readable form\n",
    "print(\"Local time:\", time.ctime(timestamp))\n",
    "\n",
    "# Pause for 2 seconds\n",
    "print(\"Waiting...\")\n",
    "time.sleep(2)\n",
    "print(\"Done waiting!\")\n"
   ]
  },
  {
   "cell_type": "markdown",
   "id": "e33f200f",
   "metadata": {},
   "source": [
    "Measuring execution time"
   ]
  },
  {
   "cell_type": "code",
   "execution_count": null,
   "id": "0e973928",
   "metadata": {},
   "outputs": [],
   "source": [
    "start = time.perf_counter()\n",
    "\n",
    "# Example workload\n",
    "sum(range(1_000_000))\n",
    "\n",
    "end = time.perf_counter()\n",
    "print(f\"Execution took {end - start:.4f} seconds\")"
   ]
  },
  {
   "cell_type": "markdown",
   "id": "36b0f4e7",
   "metadata": {},
   "source": [
    "Choosing Between datetime and time\n",
    "\n",
    "| Task                                 | Recommended Module    |\n",
    "| ------------------------------------ | --------------------- |\n",
    "| Working with real-world dates/times  | `datetime`            |\n",
    "| Formatting or parsing date strings   | `datetime`            |\n",
    "| Adding or subtracting time intervals | `datetime.timedelta`  |\n",
    "| Measuring code execution duration    | `time.perf_counter()` |\n",
    "| Adding pauses or delays              | `time.sleep()`        |\n",
    "| Getting Unix timestamps              | `time.time()`         |\n"
   ]
  },
  {
   "cell_type": "markdown",
   "id": "831b1aaf",
   "metadata": {},
   "source": [
    "---\n",
    "\n",
    "## Implementations\n",
    "\n",
    "Python isn’t just a single program — it’s a **language specification** that can be implemented in different ways.\n",
    "Each implementation targets a particular ecosystem or performance goal, and they differ slightly in speed, compatibility, and integration with external libraries.\n",
    "\n",
    "### CPython (Reference Implementation)\n",
    "\n",
    "* What it is: The *default* and *official* implementation of Python, written in C.\n",
    "* Why it matters: Most tutorials, libraries, and frameworks (like NumPy, Pandas, and TensorFlow) are designed for CPython.\n",
    "* When to use: Almost always — this is the version you get when you download Python from [python.org](https://www.python.org).\n",
    "* Key strength: Broadest compatibility with third-party modules, especially those written in C or C++.\n",
    "\n",
    ">  Note for Rhino users: \n",
    ">\n",
    "> * Rhino 7 officially supports IronPython (based on .NET).\n",
    "> * Rhino 8 introduces CPython integration , which allows direct use of modern Python libraries and tools (including NumPy, Matplotlib, and requests).\n",
    ">  This change makes Rhino 8 much more flexible and compatible with the wider Python ecosystem.\n",
    "\n",
    "\n",
    "\n",
    "###  IronPython (.NET Integration)\n",
    "\n",
    "* What it is: A Python implementation built on Microsoft’s .NET Framework .\n",
    "* Why it matters: It lets Python code interact seamlessly with C#, F#, and other .NET languages.\n",
    "* When to use: Ideal when working inside .NET-based environments or integrating with Windows applications and tools like Rhino 7 or Unity (C#) .\n",
    "* Limitations: C-extension libraries (e.g., NumPy, SciPy) are not supported because IronPython does not interface directly with CPython’s C API.\n",
    "\n",
    "\n",
    "\n",
    "###  Jython (Java Virtual Machine)\n",
    "\n",
    "* What it is: A Python implementation written in Java that runs on the JVM (Java Virtual Machine).\n",
    "* Why it matters: It enables Python scripts to import and use Java classes natively.\n",
    "* When to use: Perfect for integrating Python into existing Java projects or enterprise tools running on the JVM.\n",
    "* Limitations: Like IronPython, it lacks support for native C-extension modules.\n",
    "\n",
    "\n",
    "\n",
    "###  MicroPython and CircuitPython \n",
    "\n",
    "* What they are: Lightweight implementations of Python designed for microcontrollers and embedded systems .\n",
    "* Why they matter: They let you write hardware-level logic (e.g., sensors, LEDs, motors) in a clean, Pythonic syntax.\n",
    "* When to use: Great for physical computing , IoT , or Arduino-like experiments.\n",
    "* Difference: \n",
    "  * MicroPython is minimal and efficient.\n",
    "  * CircuitPython (by Adafruit) adds simplified syntax and built-in hardware libraries for beginners and educators.\n"
   ]
  },
  {
   "cell_type": "markdown",
   "id": "99c3350d",
   "metadata": {},
   "source": [
    "---\n",
    "\n",
    "## Next steps and exercises\n",
    "- Experiment with small scripts in this notebook.\n",
    "- Try reading a CSV file included in the course folder.\n",
    "- Install a package with `pip` and import it here.\n",
    "- If you use Rhino/Grasshopper, check the CPython integration notes for compatibility specifics."
   ]
  }
 ],
 "metadata": {
  "kernelspec": {
   "display_name": "Python 3",
   "language": "python",
   "name": "python3"
  },
  "language_info": {
   "codemirror_mode": {
    "name": "ipython",
    "version": 3
   },
   "file_extension": ".py",
   "mimetype": "text/x-python",
   "name": "python",
   "nbconvert_exporter": "python",
   "pygments_lexer": "ipython3",
   "version": "3.13.6"
  }
 },
 "nbformat": 4,
 "nbformat_minor": 5
}
